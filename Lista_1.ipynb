{
 "cells": [
  {
   "cell_type": "markdown",
   "metadata": {
    "id": "CfJqWph8uRzv"
   },
   "source": [
    "# Lista 1 de Procesamento de Linguagem Natural"
   ]
  },
  {
   "cell_type": "markdown",
   "metadata": {
    "id": "MT3ocZtir7kk"
   },
   "source": [
    "### Bibliotecas utilizadas"
   ]
  },
  {
   "cell_type": "code",
   "execution_count": null,
   "metadata": {
    "id": "M-20badJttmm"
   },
   "outputs": [],
   "source": [
    "import re\n",
    "import pprint as pp\n",
    "from google.colab import drive\n",
    "import pandas as pd\n"
   ]
  },
  {
   "cell_type": "markdown",
   "metadata": {
    "id": "1qU2h_BQt39X"
   },
   "source": [
    "### Questão 1\n"
   ]
  },
  {
   "cell_type": "markdown",
   "metadata": {
    "id": "xoIGVz--rWQ_"
   },
   "source": [
    "Escreva uma função que recebe uma senha como entrada e verifica\n",
    "se ela atende aos seguintes critérios de uma senha forte:\n",
    "\n",
    "• Pelo menos 8 caracteres \\\\\n",
    "• Pelo menos uma letra maiúscula e uma letra minúscula \\\\\n",
    "• Pelo menos um dígito \\\\\n",
    "• Pelo menos um caractere especial (por exemplo, !@#$%&*)\n",
    "\n",
    "A função deve retornar `True` se a senha for forte e `False` caso contrário. Mostre exemplos."
   ]
  },
  {
   "cell_type": "code",
   "execution_count": null,
   "metadata": {
    "colab": {
     "base_uri": "https://localhost:8080/"
    },
    "id": "yuOTyS1DuEdK",
    "outputId": "d48ca146-db15-469a-a440-e5c4a9063856"
   },
   "outputs": [
    {
     "name": "stdout",
     "output_type": "stream",
     "text": [
      "False\n",
      "True\n",
      "False\n",
      "True\n",
      "False\n",
      "False\n"
     ]
    }
   ],
   "source": [
    "def is_password_strong(password):\n",
    "\n",
    "  pattern = '^(?=.*[A-Z])(?=.*[a-z])(?=.*[0-9])(?=.*\\W).{8,}$'\n",
    "  has_everything = re.compile(pattern).search(password)\n",
    "\n",
    "  if has_everything:\n",
    "    return True\n",
    "  else:\n",
    "    return False\n",
    "\n",
    "print(is_password_strong('123456')) # False: Less than eight characters\n",
    "print(is_password_strong('str0nGPa$$w0rd')) # True\n",
    "print(is_password_strong('str0ngpa$sword')) # False: No uppercase letters\n",
    "print(is_password_strong('T3st P@ssw0rd')) # True\n",
    "print(is_password_strong('strong p4ssw0rd test')) # False: No special characters\n",
    "print(is_password_strong('Test_p@ssword')) #False: No number"
   ]
  },
  {
   "cell_type": "markdown",
   "metadata": {
    "id": "-3EkD-O4uEJu"
   },
   "source": [
    "### Questão 2"
   ]
  },
  {
   "cell_type": "markdown",
   "metadata": {
    "id": "ZzYsvxzhsPin"
   },
   "source": [
    "Escreva uma função que recebe um endereço de e-mail como entrada e verifica se ele é válido de acordo com as regras básicas de formação de um e-mail. Utilize expressões regulares para realizar a validação. A função deve retornar `True` se o endereço de e-mail for válido e `False` caso contrário. Mostre exemplos."
   ]
  },
  {
   "cell_type": "code",
   "execution_count": null,
   "metadata": {
    "colab": {
     "base_uri": "https://localhost:8080/"
    },
    "id": "IUME9rhvuG2z",
    "outputId": "37dfd341-ef19-4942-c505-4b78a62e8b6e"
   },
   "outputs": [
    {
     "name": "stdout",
     "output_type": "stream",
     "text": [
      "True\n",
      "False\n",
      "True\n",
      "True\n",
      "False\n",
      "False\n",
      "False\n",
      "False\n",
      "False\n",
      "False\n"
     ]
    }
   ],
   "source": [
    "def is_valid_email(email):\n",
    "\n",
    "  # Letras, números e ponto final\n",
    "  # Deve ter um @\n",
    "  pattern = \"^[A-Za-z0-9.]+@[a-z0-9]+\\.[a-z]+(\\.[a-z]+)?$\"\n",
    "\n",
    "  validate_email = re.compile(pattern).search(email)\n",
    "  if validate_email:\n",
    "    return True\n",
    "  else:\n",
    "    return False\n",
    "\n",
    "print(is_valid_email('FulanoDTal43@gmail.com')) # True\n",
    "print(is_valid_email('teste-em4il.com')) # False: Special characters and no @\n",
    "print(is_valid_email(\"foo.bar@gmail.com\")) # True\n",
    "print(is_valid_email(\"foo.bar@gmail.com.br\")) # True\n",
    "print(is_valid_email(\"foo.bar@gmail.com.br.br\")) # False\n",
    "print(is_valid_email(\"foo.bar@gmail.\")) # False\n",
    "print(is_valid_email(\"foo.bar@gmailcom\")) # False\n",
    "print(is_valid_email(\"foo.bar@.com\")) # False\n",
    "print(is_valid_email(\"foo.bargmail.com\")) # False\n",
    "print(is_valid_email(\"@gmail.com\")) # False\n"
   ]
  },
  {
   "cell_type": "markdown",
   "metadata": {
    "id": "GN6EMAJfuHN4"
   },
   "source": [
    "### Questão 3"
   ]
  },
  {
   "cell_type": "markdown",
   "metadata": {
    "id": "EkucyBtgv5RK"
   },
   "source": [
    "Considere o seguinte exemplo de referência de livro em formato de\n",
    "citação APA: \\\\\n",
    " \\\\\n",
    "\n",
    "Manning, C. D., Manning, C. D., & Schutze, H. (1999). Foundations of\n",
    "statistical natural language processing. MIT press.\n",
    "\n",
    "Implemente uma função usando expressões regulares que extraia cada autor, ano de publicação, título e editora do livro, para qualquer referência de livro neste formato."
   ]
  },
  {
   "cell_type": "code",
   "execution_count": null,
   "metadata": {
    "colab": {
     "base_uri": "https://localhost:8080/"
    },
    "id": "t3OZPhg7uIBC",
    "outputId": "d390a46c-caec-4098-dc3c-e3531954b8d6"
   },
   "outputs": [
    {
     "name": "stdout",
     "output_type": "stream",
     "text": [
      "{'Ano': '1999',\n",
      " 'Autores': ['Manning, C. ', 'Manning, C. ', 'Schutze, H. '],\n",
      " 'Editora': 'MIT press',\n",
      " 'Título': 'Foundations of statistical natural language processing'}\n"
     ]
    }
   ],
   "source": [
    "def extrair_info_citacao(citacao):\n",
    "    ano_pattern = r'\\((\\d{4})\\).'\n",
    "    ano = re.search(ano_pattern, citacao)\n",
    "    ano = ano.group(1) if ano else None\n",
    "\n",
    "    autores_pattern = r'[A-Z][a-z]+(?:, [A-Z]\\. \\&?)'\n",
    "    autores = re.findall(autores_pattern, citacao)\n",
    "\n",
    "    titulo_pattern = r'\\)\\. (.*?)\\.'\n",
    "    titulo = re.search(titulo_pattern, citacao)\n",
    "    titulo = titulo.group(1) if titulo else None\n",
    "    aux_cite = re.sub(ano_pattern,'',citacao)\n",
    "\n",
    "    editora_pattern = r'^\\.(.*?)\\s\\.'\n",
    "    cit_aux = citacao[::-1]\n",
    "    editora = re.search(editora_pattern,cit_aux)\n",
    "    editora = editora.group(1)[::-1] if editora else None\n",
    "\n",
    "    return {\n",
    "        'Autores': autores,\n",
    "        'Ano': ano,\n",
    "        'Título': titulo,\n",
    "        'Editora': editora\n",
    "    }\n",
    "\n",
    "# Exemplo de uso\n",
    "citacao = \"Manning, C. D., Manning, C. D., & Schutze, H. (1999). Foundations of statistical natural language processing. MIT press.\"\n",
    "informacoes = extrair_info_citacao(citacao)\n",
    "pp.pprint(informacoes)\n"
   ]
  },
  {
   "cell_type": "markdown",
   "metadata": {
    "id": "qRsepk7RuILo"
   },
   "source": [
    "### Questão 4"
   ]
  },
  {
   "cell_type": "markdown",
   "metadata": {
    "id": "g_CEvYZLwQnX"
   },
   "source": [
    "Usando sua base de textos, determine a distribuição de comprimentos dos textos (em quantidade de palavras), listando estas quantidades e plotando um histograma."
   ]
  },
  {
   "cell_type": "code",
   "execution_count": null,
   "metadata": {
    "colab": {
     "base_uri": "https://localhost:8080/"
    },
    "id": "oQA5N3f3kwkX",
    "outputId": "5dac2373-219f-41de-db74-e8c2eae8dd4f"
   },
   "outputs": [
    {
     "name": "stdout",
     "output_type": "stream",
     "text": [
      "Drive already mounted at /content/drive; to attempt to forcibly remount, call drive.mount(\"/content/drive\", force_remount=True).\n"
     ]
    }
   ],
   "source": [
    "drive.mount('/content/drive')"
   ]
  },
  {
   "cell_type": "code",
   "execution_count": null,
   "metadata": {
    "id": "wKppguKAuIxN"
   },
   "outputs": [],
   "source": [
    "data = pd.read_csv('/content/drive/MyDrive/Colab Notebooks/PLN/wiki_movie_plots_deduped.csv')"
   ]
  },
  {
   "cell_type": "code",
   "execution_count": null,
   "metadata": {
    "colab": {
     "base_uri": "https://localhost:8080/",
     "height": 649
    },
    "id": "U_gVOkWQl2bu",
    "outputId": "0b7bd9df-5072-43a0-8da4-18f4def0d39b"
   },
   "outputs": [
    {
     "data": {
      "application/vnd.google.colaboratory.intrinsic+json": {
       "summary": "{\n  \"name\": \"data\",\n  \"rows\": 34886,\n  \"fields\": [\n    {\n      \"column\": \"Release Year\",\n      \"properties\": {\n        \"dtype\": \"number\",\n        \"std\": 27,\n        \"min\": 1901,\n        \"max\": 2017,\n        \"num_unique_values\": 117,\n        \"samples\": [\n          1945,\n          1905,\n          1954\n        ],\n        \"semantic_type\": \"\",\n        \"description\": \"\"\n      }\n    },\n    {\n      \"column\": \"Title\",\n      \"properties\": {\n        \"dtype\": \"string\",\n        \"num_unique_values\": 32432,\n        \"samples\": [\n          \"Mayalodu\",\n          \"Dikari\",\n          \"En Rathathin Rathame\"\n        ],\n        \"semantic_type\": \"\",\n        \"description\": \"\"\n      }\n    },\n    {\n      \"column\": \"Origin/Ethnicity\",\n      \"properties\": {\n        \"dtype\": \"category\",\n        \"num_unique_values\": 24,\n        \"samples\": [\n          \"Filipino\",\n          \"Tamil\",\n          \"American\"\n        ],\n        \"semantic_type\": \"\",\n        \"description\": \"\"\n      }\n    },\n    {\n      \"column\": \"Director\",\n      \"properties\": {\n        \"dtype\": \"category\",\n        \"num_unique_values\": 12593,\n        \"samples\": [\n          \"B. S. Narayana\",\n          \"Ravi Kinnagi\",\n          \"Steve Buscemi\"\n        ],\n        \"semantic_type\": \"\",\n        \"description\": \"\"\n      }\n    },\n    {\n      \"column\": \"Cast\",\n      \"properties\": {\n        \"dtype\": \"string\",\n        \"num_unique_values\": 32182,\n        \"samples\": [\n          \"Sivaji Ganesan, K. R. Vijaya, Sripriya\",\n          \"Corbin Bernsen, Dennis Haysbert, Scott Bakula, Bob Uecker\",\n          \"Paul Douglas, Richard Basehart\"\n        ],\n        \"semantic_type\": \"\",\n        \"description\": \"\"\n      }\n    },\n    {\n      \"column\": \"Genre\",\n      \"properties\": {\n        \"dtype\": \"category\",\n        \"num_unique_values\": 2265,\n        \"samples\": [\n          \"comedy/drama/action\",\n          \"drama / suspense / fantasy / costume\",\n          \"comedy, anthology\"\n        ],\n        \"semantic_type\": \"\",\n        \"description\": \"\"\n      }\n    },\n    {\n      \"column\": \"Wiki Page\",\n      \"properties\": {\n        \"dtype\": \"string\",\n        \"num_unique_values\": 34070,\n        \"samples\": [\n          \"https://en.wikipedia.org/wiki/Two_Thousand_and_None\",\n          \"https://en.wikipedia.org/wiki/Death_Note_2:_The_Last_Name\",\n          \"https://en.wikipedia.org/wiki/Contagion_(film)\"\n        ],\n        \"semantic_type\": \"\",\n        \"description\": \"\"\n      }\n    },\n    {\n      \"column\": \"Plot\",\n      \"properties\": {\n        \"dtype\": \"string\",\n        \"num_unique_values\": 33869,\n        \"samples\": [\n          \"In Spain 1519, two con artists, Tulio and Miguel, win a map to the legendary City of Gold, El Dorado, in a rigged dice gamble. After their con is exposed, the two evade the guards and hide aboard one of the ships to be led by Hern\\u00e1n Cort\\u00e9s for the New World. During the voyage, they are caught as stowaways and imprisoned, but break free and take a rowboat with the help of Cort\\u00e9s' horse, Altivo.\\r\\nThey reach an unknown shore at the edge of Mexico, where Miguel begins to recognize landmarks from the map, leading them to a totem marker near a waterfall that Tulio believes is a dead end. As they prepare to leave, they encounter a native woman, Chel, being chased by guards. When the guards see Tulio and Miguel riding Altivo as depicted on the totem, they escort them and Chel to a secret entrance behind the falls, into El Dorado. They are brought to the city's elders, kindhearted Chief Tannabok and wicked high priest Tzekel-Kan. The pair are mistaken for gods and given luxurious quarters, along with the charge of Chel. Chel discovers the two are conning the people but promises to remain quiet if they take her with them when they leave the city. The two are showered with gifts of gold from Tannabok, but disapprove of Tzekel-Kan attempting to sacrifice a civilian as the gods' ritual.\\r\\nTulio instructs Tannabok to build them a boat so that they can leave the city with all the gifts they have been given. During the three days this will take, Miguel explores the city, and Chel gets romantically close to Tulio. Miguel comes to appreciate the peaceful life the citizens seem to enjoy. When Tzekel-Kan sees Miguel playing a ball game with children, he insists the gods demonstrate their powers against the city's best players in the same game. Tulio and Miguel are far outmatched, but Chel is able to substitute the ball with an armadillo, allowing them to win. Miguel spares the ritual of sacrificing the losing team and chastises Tzekel-Kan, much to the crowd's approval. Tzekel-Kan notices Miguel received a small cut and realizes the two are not gods, because gods do not bleed. Tzekel-Kan conjures a giant stone jaguar to chase them through the city. Tulio and Miguel outwit the jaguar, causing it and Tzekel-Kan to fall into a giant whirlpool, thought to be the entrance to Xibalba. Tzekel-Kan then surfaces in the jungle, where he encounters Cort\\u00e9s and his men. Thinking Cort\\u00e9s is a god, he offers to lead them to El Dorado.\\r\\nWith the boat completed, Miguel says he will stay in the city. As Tulio and Chel board the boat, they see smoke on the horizon and realize Cort\\u00e9s is close. Tulio suggests using the boat to ram rock pillars under the waterfall and block the main entrance to the city. The plan succeeds with the citizens pulling over a statue in the boat's wake to give it enough speed. As the statue starts to fall too quickly, Tulio has difficulty in preparing the boat's sail. Giving up on staying in the city, Miguel and Altivo jump onto the boat to unfurl the sails, assuring the boat clears the statue in time. The group successfully crashes against the pillars, causing a cave-in but losing all their gifts in the process. They hide near the totem, just as Cort\\u00e9s' men and Tzekel-Kan arrive. When Tzekel-Kan finds the entrance blocked, Cort\\u00e9s brands him a liar, and takes Tzekel-Kan prisoner as they leave.\\r\\nTulio and Miguel, though disappointed they lost the gold (unaware that Altivo still wears the golden horseshoes with which he was outfitted in El Dorado), head in a different direction for a new adventure with Chel.\",\n          \"First Lieutenant Shunichi Maki of the Japan Air Self-Defense Force is a prestigious F-15 Eagle jet pilot. A lifelong fan of flying since he was a child, being a pilot is his ultimate dream. Unfortunately, his duties distance himself from his wife, Yoko, who feels neglected, and his son, Tsugumu, who has a possibly terminal congenital blood disease.\\r\\nMaki decides to quit the Air Force to devote more time to his family and to spend whatever time is left with his son. He takes a part-time job as a commercial tour guide for a kindly group of people who allow him time to take care of his family.\\r\\nPrior to quitting, Maki and his flight partner Yamashima are alerted to a strange red light streaking towards Japan, and Maki's plane passes through the red light seemingly without any damage. He suffers no ill effects other than strange images briefly playing out in his mind. He later discovers that the images are telepathic messages from a strange being that exists in the red light.\",\n          \"Sergeant Deadhead is a bumbling soldier who is sent to the guardhouse for blowing up a model rocket on the parade ground of the air base where he is stationed. His fianc\\u00e9e, Airman Lucy Turner despairs of ever marrying him because of him being constantly disciplined for his antics. She is worried that she will have to marry him while he is in the guardhouse.\\r\\nTogether with Private McEvoy, Sergeant Deadhead escapes from the guardhouse. Private McEvoy decides to break back in, but Sergeant Deadhead hides in a nearby space rocket, not knowing it is set to blast off with a chimpanzee aboard. He falls asleep in the rocket's control room and is accidentally blasted into space, together with the chimpanzee.\\r\\nWhen Sergeant Deadhead is discovered to be aboard the rocket, General Fogg decides to spin the facts and say that Sergeant Deadhead volunteered for the mission. He and Navy Captain Weiskopf also decide that Sergeant Deadhead and Airman Turner will have a well publicized wedding on the air base when Sergeant Deadhead returns to earth.\\r\\nWhen Sergeant Deadhead returns home he is a national hero but has also developed a massive ego due to space travel causing his personality to blend with that of the chimpanzee, and the realization that he has become a media sensation.\\r\\nA soldier who looks exactly like him, Sergeant Donovan, is found to take his place. When the smooth talking Sergeant Donovan is set to take Sergeant Deadhead's place at the altar, Sergeant Deadhead breaks out of the guardhouse, starts to recover his personality, and switches places with Sergeant Donovan. When the leadership realizes he has escaped the guardhouse, he runs away.\\r\\nSergeant Deadhead finds out about Sergeant Donovan, and goes to the hotel where the wedding reception and honeymoon are taking place. There he switches places with Sergeant Donovan to enjoy his honeymoon. However, General Fogg and the others find Donovan and take him back to the honeymoon suite, looking for Deadhead. Thinking Donovan is Deadhead, Airman Turner chases them out.\\r\\nWhen Airman Turner is preparing a bath for Donovan, Deadhead sneaks in the window and coldcocks Donovan with a vase, knocking him out. Fogg, Weiskopf and the others show up again at the door, claiming to have a message from the President. Thinking that Deadhead is Donovan, Fogg and Weiskopf have two MP's escort Deadhead and Turner to the airport to fly to see the President. Donovan awakes alone in the closet, then goes back to base where Fogg and Weiskopf discover that Deadhead is with Turner and going to meet the President. Deadhead and Turner enjoy the rest of their honeymoon and their meeting with the President.\\r\\nTwo marines appear to arrest Deadhead but mistakenly arrest the President, who is trying on Deadhead's space helmet. Deadhead and Turner escape in a White House helicopter. Fogg, Weiskopf and the others end up in the guardhouse.\"\n        ],\n        \"semantic_type\": \"\",\n        \"description\": \"\"\n      }\n    }\n  ]\n}",
       "type": "dataframe",
       "variable_name": "data"
      },
      "text/html": [
       "\n",
       "  <div id=\"df-4e9f7dd2-eff5-43ee-835a-07a761247779\" class=\"colab-df-container\">\n",
       "    <div>\n",
       "<style scoped>\n",
       "    .dataframe tbody tr th:only-of-type {\n",
       "        vertical-align: middle;\n",
       "    }\n",
       "\n",
       "    .dataframe tbody tr th {\n",
       "        vertical-align: top;\n",
       "    }\n",
       "\n",
       "    .dataframe thead th {\n",
       "        text-align: right;\n",
       "    }\n",
       "</style>\n",
       "<table border=\"1\" class=\"dataframe\">\n",
       "  <thead>\n",
       "    <tr style=\"text-align: right;\">\n",
       "      <th></th>\n",
       "      <th>Release Year</th>\n",
       "      <th>Title</th>\n",
       "      <th>Origin/Ethnicity</th>\n",
       "      <th>Director</th>\n",
       "      <th>Cast</th>\n",
       "      <th>Genre</th>\n",
       "      <th>Wiki Page</th>\n",
       "      <th>Plot</th>\n",
       "    </tr>\n",
       "  </thead>\n",
       "  <tbody>\n",
       "    <tr>\n",
       "      <th>0</th>\n",
       "      <td>1901</td>\n",
       "      <td>Kansas Saloon Smashers</td>\n",
       "      <td>American</td>\n",
       "      <td>Unknown</td>\n",
       "      <td>NaN</td>\n",
       "      <td>unknown</td>\n",
       "      <td>https://en.wikipedia.org/wiki/Kansas_Saloon_Sm...</td>\n",
       "      <td>A bartender is working at a saloon, serving dr...</td>\n",
       "    </tr>\n",
       "    <tr>\n",
       "      <th>1</th>\n",
       "      <td>1901</td>\n",
       "      <td>Love by the Light of the Moon</td>\n",
       "      <td>American</td>\n",
       "      <td>Unknown</td>\n",
       "      <td>NaN</td>\n",
       "      <td>unknown</td>\n",
       "      <td>https://en.wikipedia.org/wiki/Love_by_the_Ligh...</td>\n",
       "      <td>The moon, painted with a smiling face hangs ov...</td>\n",
       "    </tr>\n",
       "    <tr>\n",
       "      <th>2</th>\n",
       "      <td>1901</td>\n",
       "      <td>The Martyred Presidents</td>\n",
       "      <td>American</td>\n",
       "      <td>Unknown</td>\n",
       "      <td>NaN</td>\n",
       "      <td>unknown</td>\n",
       "      <td>https://en.wikipedia.org/wiki/The_Martyred_Pre...</td>\n",
       "      <td>The film, just over a minute long, is composed...</td>\n",
       "    </tr>\n",
       "    <tr>\n",
       "      <th>3</th>\n",
       "      <td>1901</td>\n",
       "      <td>Terrible Teddy, the Grizzly King</td>\n",
       "      <td>American</td>\n",
       "      <td>Unknown</td>\n",
       "      <td>NaN</td>\n",
       "      <td>unknown</td>\n",
       "      <td>https://en.wikipedia.org/wiki/Terrible_Teddy,_...</td>\n",
       "      <td>Lasting just 61 seconds and consisting of two ...</td>\n",
       "    </tr>\n",
       "    <tr>\n",
       "      <th>4</th>\n",
       "      <td>1902</td>\n",
       "      <td>Jack and the Beanstalk</td>\n",
       "      <td>American</td>\n",
       "      <td>George S. Fleming, Edwin S. Porter</td>\n",
       "      <td>NaN</td>\n",
       "      <td>unknown</td>\n",
       "      <td>https://en.wikipedia.org/wiki/Jack_and_the_Bea...</td>\n",
       "      <td>The earliest known adaptation of the classic f...</td>\n",
       "    </tr>\n",
       "    <tr>\n",
       "      <th>...</th>\n",
       "      <td>...</td>\n",
       "      <td>...</td>\n",
       "      <td>...</td>\n",
       "      <td>...</td>\n",
       "      <td>...</td>\n",
       "      <td>...</td>\n",
       "      <td>...</td>\n",
       "      <td>...</td>\n",
       "    </tr>\n",
       "    <tr>\n",
       "      <th>34881</th>\n",
       "      <td>2014</td>\n",
       "      <td>The Water Diviner</td>\n",
       "      <td>Turkish</td>\n",
       "      <td>Director: Russell Crowe</td>\n",
       "      <td>Director: Russell Crowe\\r\\nCast: Russell Crowe...</td>\n",
       "      <td>unknown</td>\n",
       "      <td>https://en.wikipedia.org/wiki/The_Water_Diviner</td>\n",
       "      <td>The film begins in 1919, just after World War ...</td>\n",
       "    </tr>\n",
       "    <tr>\n",
       "      <th>34882</th>\n",
       "      <td>2017</td>\n",
       "      <td>Çalgı Çengi İkimiz</td>\n",
       "      <td>Turkish</td>\n",
       "      <td>Selçuk Aydemir</td>\n",
       "      <td>Ahmet Kural, Murat Cemcir</td>\n",
       "      <td>comedy</td>\n",
       "      <td>https://en.wikipedia.org/wiki/%C3%87alg%C4%B1_...</td>\n",
       "      <td>Two musicians, Salih and Gürkan, described the...</td>\n",
       "    </tr>\n",
       "    <tr>\n",
       "      <th>34883</th>\n",
       "      <td>2017</td>\n",
       "      <td>Olanlar Oldu</td>\n",
       "      <td>Turkish</td>\n",
       "      <td>Hakan Algül</td>\n",
       "      <td>Ata Demirer, Tuvana Türkay, Ülkü Duru</td>\n",
       "      <td>comedy</td>\n",
       "      <td>https://en.wikipedia.org/wiki/Olanlar_Oldu</td>\n",
       "      <td>Zafer, a sailor living with his mother Döndü i...</td>\n",
       "    </tr>\n",
       "    <tr>\n",
       "      <th>34884</th>\n",
       "      <td>2017</td>\n",
       "      <td>Non-Transferable</td>\n",
       "      <td>Turkish</td>\n",
       "      <td>Brendan Bradley</td>\n",
       "      <td>YouTubers Shanna Malcolm, Shira Lazar, Sara Fl...</td>\n",
       "      <td>romantic comedy</td>\n",
       "      <td>https://en.wikipedia.org/wiki/Non-Transferable...</td>\n",
       "      <td>The film centres around a young woman named Am...</td>\n",
       "    </tr>\n",
       "    <tr>\n",
       "      <th>34885</th>\n",
       "      <td>2017</td>\n",
       "      <td>İstanbul Kırmızısı</td>\n",
       "      <td>Turkish</td>\n",
       "      <td>Ferzan Özpetek</td>\n",
       "      <td>Halit Ergenç, Tuba Büyüküstün, Mehmet Günsür, ...</td>\n",
       "      <td>romantic</td>\n",
       "      <td>https://en.wikipedia.org/wiki/%C4%B0stanbul_K%...</td>\n",
       "      <td>The writer Orhan Şahin returns to İstanbul aft...</td>\n",
       "    </tr>\n",
       "  </tbody>\n",
       "</table>\n",
       "<p>34886 rows × 8 columns</p>\n",
       "</div>\n",
       "    <div class=\"colab-df-buttons\">\n",
       "\n",
       "  <div class=\"colab-df-container\">\n",
       "    <button class=\"colab-df-convert\" onclick=\"convertToInteractive('df-4e9f7dd2-eff5-43ee-835a-07a761247779')\"\n",
       "            title=\"Convert this dataframe to an interactive table.\"\n",
       "            style=\"display:none;\">\n",
       "\n",
       "  <svg xmlns=\"http://www.w3.org/2000/svg\" height=\"24px\" viewBox=\"0 -960 960 960\">\n",
       "    <path d=\"M120-120v-720h720v720H120Zm60-500h600v-160H180v160Zm220 220h160v-160H400v160Zm0 220h160v-160H400v160ZM180-400h160v-160H180v160Zm440 0h160v-160H620v160ZM180-180h160v-160H180v160Zm440 0h160v-160H620v160Z\"/>\n",
       "  </svg>\n",
       "    </button>\n",
       "\n",
       "  <style>\n",
       "    .colab-df-container {\n",
       "      display:flex;\n",
       "      gap: 12px;\n",
       "    }\n",
       "\n",
       "    .colab-df-convert {\n",
       "      background-color: #E8F0FE;\n",
       "      border: none;\n",
       "      border-radius: 50%;\n",
       "      cursor: pointer;\n",
       "      display: none;\n",
       "      fill: #1967D2;\n",
       "      height: 32px;\n",
       "      padding: 0 0 0 0;\n",
       "      width: 32px;\n",
       "    }\n",
       "\n",
       "    .colab-df-convert:hover {\n",
       "      background-color: #E2EBFA;\n",
       "      box-shadow: 0px 1px 2px rgba(60, 64, 67, 0.3), 0px 1px 3px 1px rgba(60, 64, 67, 0.15);\n",
       "      fill: #174EA6;\n",
       "    }\n",
       "\n",
       "    .colab-df-buttons div {\n",
       "      margin-bottom: 4px;\n",
       "    }\n",
       "\n",
       "    [theme=dark] .colab-df-convert {\n",
       "      background-color: #3B4455;\n",
       "      fill: #D2E3FC;\n",
       "    }\n",
       "\n",
       "    [theme=dark] .colab-df-convert:hover {\n",
       "      background-color: #434B5C;\n",
       "      box-shadow: 0px 1px 3px 1px rgba(0, 0, 0, 0.15);\n",
       "      filter: drop-shadow(0px 1px 2px rgba(0, 0, 0, 0.3));\n",
       "      fill: #FFFFFF;\n",
       "    }\n",
       "  </style>\n",
       "\n",
       "    <script>\n",
       "      const buttonEl =\n",
       "        document.querySelector('#df-4e9f7dd2-eff5-43ee-835a-07a761247779 button.colab-df-convert');\n",
       "      buttonEl.style.display =\n",
       "        google.colab.kernel.accessAllowed ? 'block' : 'none';\n",
       "\n",
       "      async function convertToInteractive(key) {\n",
       "        const element = document.querySelector('#df-4e9f7dd2-eff5-43ee-835a-07a761247779');\n",
       "        const dataTable =\n",
       "          await google.colab.kernel.invokeFunction('convertToInteractive',\n",
       "                                                    [key], {});\n",
       "        if (!dataTable) return;\n",
       "\n",
       "        const docLinkHtml = 'Like what you see? Visit the ' +\n",
       "          '<a target=\"_blank\" href=https://colab.research.google.com/notebooks/data_table.ipynb>data table notebook</a>'\n",
       "          + ' to learn more about interactive tables.';\n",
       "        element.innerHTML = '';\n",
       "        dataTable['output_type'] = 'display_data';\n",
       "        await google.colab.output.renderOutput(dataTable, element);\n",
       "        const docLink = document.createElement('div');\n",
       "        docLink.innerHTML = docLinkHtml;\n",
       "        element.appendChild(docLink);\n",
       "      }\n",
       "    </script>\n",
       "  </div>\n",
       "\n",
       "\n",
       "<div id=\"df-5db297ff-94cd-48fd-9514-c197bddf0acd\">\n",
       "  <button class=\"colab-df-quickchart\" onclick=\"quickchart('df-5db297ff-94cd-48fd-9514-c197bddf0acd')\"\n",
       "            title=\"Suggest charts\"\n",
       "            style=\"display:none;\">\n",
       "\n",
       "<svg xmlns=\"http://www.w3.org/2000/svg\" height=\"24px\"viewBox=\"0 0 24 24\"\n",
       "     width=\"24px\">\n",
       "    <g>\n",
       "        <path d=\"M19 3H5c-1.1 0-2 .9-2 2v14c0 1.1.9 2 2 2h14c1.1 0 2-.9 2-2V5c0-1.1-.9-2-2-2zM9 17H7v-7h2v7zm4 0h-2V7h2v10zm4 0h-2v-4h2v4z\"/>\n",
       "    </g>\n",
       "</svg>\n",
       "  </button>\n",
       "\n",
       "<style>\n",
       "  .colab-df-quickchart {\n",
       "      --bg-color: #E8F0FE;\n",
       "      --fill-color: #1967D2;\n",
       "      --hover-bg-color: #E2EBFA;\n",
       "      --hover-fill-color: #174EA6;\n",
       "      --disabled-fill-color: #AAA;\n",
       "      --disabled-bg-color: #DDD;\n",
       "  }\n",
       "\n",
       "  [theme=dark] .colab-df-quickchart {\n",
       "      --bg-color: #3B4455;\n",
       "      --fill-color: #D2E3FC;\n",
       "      --hover-bg-color: #434B5C;\n",
       "      --hover-fill-color: #FFFFFF;\n",
       "      --disabled-bg-color: #3B4455;\n",
       "      --disabled-fill-color: #666;\n",
       "  }\n",
       "\n",
       "  .colab-df-quickchart {\n",
       "    background-color: var(--bg-color);\n",
       "    border: none;\n",
       "    border-radius: 50%;\n",
       "    cursor: pointer;\n",
       "    display: none;\n",
       "    fill: var(--fill-color);\n",
       "    height: 32px;\n",
       "    padding: 0;\n",
       "    width: 32px;\n",
       "  }\n",
       "\n",
       "  .colab-df-quickchart:hover {\n",
       "    background-color: var(--hover-bg-color);\n",
       "    box-shadow: 0 1px 2px rgba(60, 64, 67, 0.3), 0 1px 3px 1px rgba(60, 64, 67, 0.15);\n",
       "    fill: var(--button-hover-fill-color);\n",
       "  }\n",
       "\n",
       "  .colab-df-quickchart-complete:disabled,\n",
       "  .colab-df-quickchart-complete:disabled:hover {\n",
       "    background-color: var(--disabled-bg-color);\n",
       "    fill: var(--disabled-fill-color);\n",
       "    box-shadow: none;\n",
       "  }\n",
       "\n",
       "  .colab-df-spinner {\n",
       "    border: 2px solid var(--fill-color);\n",
       "    border-color: transparent;\n",
       "    border-bottom-color: var(--fill-color);\n",
       "    animation:\n",
       "      spin 1s steps(1) infinite;\n",
       "  }\n",
       "\n",
       "  @keyframes spin {\n",
       "    0% {\n",
       "      border-color: transparent;\n",
       "      border-bottom-color: var(--fill-color);\n",
       "      border-left-color: var(--fill-color);\n",
       "    }\n",
       "    20% {\n",
       "      border-color: transparent;\n",
       "      border-left-color: var(--fill-color);\n",
       "      border-top-color: var(--fill-color);\n",
       "    }\n",
       "    30% {\n",
       "      border-color: transparent;\n",
       "      border-left-color: var(--fill-color);\n",
       "      border-top-color: var(--fill-color);\n",
       "      border-right-color: var(--fill-color);\n",
       "    }\n",
       "    40% {\n",
       "      border-color: transparent;\n",
       "      border-right-color: var(--fill-color);\n",
       "      border-top-color: var(--fill-color);\n",
       "    }\n",
       "    60% {\n",
       "      border-color: transparent;\n",
       "      border-right-color: var(--fill-color);\n",
       "    }\n",
       "    80% {\n",
       "      border-color: transparent;\n",
       "      border-right-color: var(--fill-color);\n",
       "      border-bottom-color: var(--fill-color);\n",
       "    }\n",
       "    90% {\n",
       "      border-color: transparent;\n",
       "      border-bottom-color: var(--fill-color);\n",
       "    }\n",
       "  }\n",
       "</style>\n",
       "\n",
       "  <script>\n",
       "    async function quickchart(key) {\n",
       "      const quickchartButtonEl =\n",
       "        document.querySelector('#' + key + ' button');\n",
       "      quickchartButtonEl.disabled = true;  // To prevent multiple clicks.\n",
       "      quickchartButtonEl.classList.add('colab-df-spinner');\n",
       "      try {\n",
       "        const charts = await google.colab.kernel.invokeFunction(\n",
       "            'suggestCharts', [key], {});\n",
       "      } catch (error) {\n",
       "        console.error('Error during call to suggestCharts:', error);\n",
       "      }\n",
       "      quickchartButtonEl.classList.remove('colab-df-spinner');\n",
       "      quickchartButtonEl.classList.add('colab-df-quickchart-complete');\n",
       "    }\n",
       "    (() => {\n",
       "      let quickchartButtonEl =\n",
       "        document.querySelector('#df-5db297ff-94cd-48fd-9514-c197bddf0acd button');\n",
       "      quickchartButtonEl.style.display =\n",
       "        google.colab.kernel.accessAllowed ? 'block' : 'none';\n",
       "    })();\n",
       "  </script>\n",
       "</div>\n",
       "\n",
       "  <div id=\"id_5542a82b-7512-4b4f-b693-b49cac735708\">\n",
       "    <style>\n",
       "      .colab-df-generate {\n",
       "        background-color: #E8F0FE;\n",
       "        border: none;\n",
       "        border-radius: 50%;\n",
       "        cursor: pointer;\n",
       "        display: none;\n",
       "        fill: #1967D2;\n",
       "        height: 32px;\n",
       "        padding: 0 0 0 0;\n",
       "        width: 32px;\n",
       "      }\n",
       "\n",
       "      .colab-df-generate:hover {\n",
       "        background-color: #E2EBFA;\n",
       "        box-shadow: 0px 1px 2px rgba(60, 64, 67, 0.3), 0px 1px 3px 1px rgba(60, 64, 67, 0.15);\n",
       "        fill: #174EA6;\n",
       "      }\n",
       "\n",
       "      [theme=dark] .colab-df-generate {\n",
       "        background-color: #3B4455;\n",
       "        fill: #D2E3FC;\n",
       "      }\n",
       "\n",
       "      [theme=dark] .colab-df-generate:hover {\n",
       "        background-color: #434B5C;\n",
       "        box-shadow: 0px 1px 3px 1px rgba(0, 0, 0, 0.15);\n",
       "        filter: drop-shadow(0px 1px 2px rgba(0, 0, 0, 0.3));\n",
       "        fill: #FFFFFF;\n",
       "      }\n",
       "    </style>\n",
       "    <button class=\"colab-df-generate\" onclick=\"generateWithVariable('data')\"\n",
       "            title=\"Generate code using this dataframe.\"\n",
       "            style=\"display:none;\">\n",
       "\n",
       "  <svg xmlns=\"http://www.w3.org/2000/svg\" height=\"24px\"viewBox=\"0 0 24 24\"\n",
       "       width=\"24px\">\n",
       "    <path d=\"M7,19H8.4L18.45,9,17,7.55,7,17.6ZM5,21V16.75L18.45,3.32a2,2,0,0,1,2.83,0l1.4,1.43a1.91,1.91,0,0,1,.58,1.4,1.91,1.91,0,0,1-.58,1.4L9.25,21ZM18.45,9,17,7.55Zm-12,3A5.31,5.31,0,0,0,4.9,8.1,5.31,5.31,0,0,0,1,6.5,5.31,5.31,0,0,0,4.9,4.9,5.31,5.31,0,0,0,6.5,1,5.31,5.31,0,0,0,8.1,4.9,5.31,5.31,0,0,0,12,6.5,5.46,5.46,0,0,0,6.5,12Z\"/>\n",
       "  </svg>\n",
       "    </button>\n",
       "    <script>\n",
       "      (() => {\n",
       "      const buttonEl =\n",
       "        document.querySelector('#id_5542a82b-7512-4b4f-b693-b49cac735708 button.colab-df-generate');\n",
       "      buttonEl.style.display =\n",
       "        google.colab.kernel.accessAllowed ? 'block' : 'none';\n",
       "\n",
       "      buttonEl.onclick = () => {\n",
       "        google.colab.notebook.generateWithVariable('data');\n",
       "      }\n",
       "      })();\n",
       "    </script>\n",
       "  </div>\n",
       "\n",
       "    </div>\n",
       "  </div>\n"
      ],
      "text/plain": [
       "       Release Year                             Title Origin/Ethnicity  \\\n",
       "0              1901            Kansas Saloon Smashers         American   \n",
       "1              1901     Love by the Light of the Moon         American   \n",
       "2              1901           The Martyred Presidents         American   \n",
       "3              1901  Terrible Teddy, the Grizzly King         American   \n",
       "4              1902            Jack and the Beanstalk         American   \n",
       "...             ...                               ...              ...   \n",
       "34881          2014                 The Water Diviner          Turkish   \n",
       "34882          2017                Çalgı Çengi İkimiz          Turkish   \n",
       "34883          2017                      Olanlar Oldu          Turkish   \n",
       "34884          2017                  Non-Transferable          Turkish   \n",
       "34885          2017                İstanbul Kırmızısı          Turkish   \n",
       "\n",
       "                                 Director  \\\n",
       "0                                 Unknown   \n",
       "1                                 Unknown   \n",
       "2                                 Unknown   \n",
       "3                                 Unknown   \n",
       "4      George S. Fleming, Edwin S. Porter   \n",
       "...                                   ...   \n",
       "34881             Director: Russell Crowe   \n",
       "34882                      Selçuk Aydemir   \n",
       "34883                         Hakan Algül   \n",
       "34884                     Brendan Bradley   \n",
       "34885                      Ferzan Özpetek   \n",
       "\n",
       "                                                    Cast            Genre  \\\n",
       "0                                                    NaN          unknown   \n",
       "1                                                    NaN          unknown   \n",
       "2                                                    NaN          unknown   \n",
       "3                                                    NaN          unknown   \n",
       "4                                                    NaN          unknown   \n",
       "...                                                  ...              ...   \n",
       "34881  Director: Russell Crowe\\r\\nCast: Russell Crowe...          unknown   \n",
       "34882                          Ahmet Kural, Murat Cemcir           comedy   \n",
       "34883              Ata Demirer, Tuvana Türkay, Ülkü Duru           comedy   \n",
       "34884  YouTubers Shanna Malcolm, Shira Lazar, Sara Fl...  romantic comedy   \n",
       "34885  Halit Ergenç, Tuba Büyüküstün, Mehmet Günsür, ...         romantic   \n",
       "\n",
       "                                               Wiki Page  \\\n",
       "0      https://en.wikipedia.org/wiki/Kansas_Saloon_Sm...   \n",
       "1      https://en.wikipedia.org/wiki/Love_by_the_Ligh...   \n",
       "2      https://en.wikipedia.org/wiki/The_Martyred_Pre...   \n",
       "3      https://en.wikipedia.org/wiki/Terrible_Teddy,_...   \n",
       "4      https://en.wikipedia.org/wiki/Jack_and_the_Bea...   \n",
       "...                                                  ...   \n",
       "34881    https://en.wikipedia.org/wiki/The_Water_Diviner   \n",
       "34882  https://en.wikipedia.org/wiki/%C3%87alg%C4%B1_...   \n",
       "34883         https://en.wikipedia.org/wiki/Olanlar_Oldu   \n",
       "34884  https://en.wikipedia.org/wiki/Non-Transferable...   \n",
       "34885  https://en.wikipedia.org/wiki/%C4%B0stanbul_K%...   \n",
       "\n",
       "                                                    Plot  \n",
       "0      A bartender is working at a saloon, serving dr...  \n",
       "1      The moon, painted with a smiling face hangs ov...  \n",
       "2      The film, just over a minute long, is composed...  \n",
       "3      Lasting just 61 seconds and consisting of two ...  \n",
       "4      The earliest known adaptation of the classic f...  \n",
       "...                                                  ...  \n",
       "34881  The film begins in 1919, just after World War ...  \n",
       "34882  Two musicians, Salih and Gürkan, described the...  \n",
       "34883  Zafer, a sailor living with his mother Döndü i...  \n",
       "34884  The film centres around a young woman named Am...  \n",
       "34885  The writer Orhan Şahin returns to İstanbul aft...  \n",
       "\n",
       "[34886 rows x 8 columns]"
      ]
     },
     "execution_count": 5,
     "metadata": {},
     "output_type": "execute_result"
    }
   ],
   "source": [
    "data"
   ]
  },
  {
   "cell_type": "markdown",
   "metadata": {
    "id": "V3k2yR3gN7RN"
   },
   "source": [
    "\n",
    "\n",
    "---\n",
    "\n"
   ]
  },
  {
   "cell_type": "code",
   "execution_count": null,
   "metadata": {
    "colab": {
     "base_uri": "https://localhost:8080/",
     "height": 377
    },
    "id": "svZvlmK8l5dd",
    "outputId": "c0d40f6c-a12f-4d6c-b9f1-5ae0e0e3953b"
   },
   "outputs": [
    {
     "data": {
      "image/png": "[encoded data removed]",
      "text/plain": [
       "<Figure size 2000x1000 with 1 Axes>"
      ]
     },
     "metadata": {},
     "output_type": "display_data"
    }
   ],
   "source": [
    "plot_data = data['Plot']\n",
    "text_index = 0\n",
    "x = []\n",
    "y = []\n",
    "for plot in plot_data:\n",
    "  x.append(text_index)\n",
    "  y.append(len(plot))\n",
    "\n",
    "df = pd.DataFrame({\"Index\": x, \"Plot\": y})\n",
    "ax = df.plot.hist(column=[\"Plot\"], by=\"Index\",bins=150,\n",
    "                  title='Word count from selected corpus',\n",
    "                 figsize=(20, 10))"
   ]
  },
  {
   "cell_type": "markdown",
   "metadata": {
    "id": "k-RIiNTuuJOo"
   },
   "source": [
    "### Questão 5"
   ]
  },
  {
   "cell_type": "markdown",
   "metadata": {
    "id": "mYMPYlkuwryM"
   },
   "source": [
    "Aplique os seguintes passos de pré-processamento aos textos:\n",
    "\n",
    "• Remova todas as palavras que contêm números;\n",
    "\n",
    "• Converta as palavras para minúsculas;\n",
    "\n",
    "• Remova pontuação;\n",
    "\n",
    "• Tokenize os textos em palavras,  gerando um dicionário único com $n$\n",
    "tokens e convertendo cada texto em um vetor de dimensão $n$ com a respectiva contagem de palavras.\n",
    "\n",
    "Em seguida, encontre as 10 palavras mais frequentes da base de textos."
   ]
  },
  {
   "cell_type": "code",
   "execution_count": null,
   "metadata": {
    "colab": {
     "base_uri": "https://localhost:8080/"
    },
    "id": "uim6K4Pz_Meb",
    "outputId": "877802ef-795d-4371-8108-b70cf441bee5"
   },
   "outputs": [
    {
     "name": "stdout",
     "output_type": "stream",
     "text": [
      "Requirement already satisfied: unidecode in /usr/local/lib/python3.10/dist-packages (1.3.8)\n"
     ]
    }
   ],
   "source": [
    "!pip install unidecode"
   ]
  },
  {
   "cell_type": "code",
   "execution_count": null,
   "metadata": {
    "id": "HfebazjfsWnS"
   },
   "outputs": [],
   "source": [
    "import unidecode\n",
    "from string import punctuation\n",
    "import nltk\n",
    "from nltk.tokenize import WordPunctTokenizer,WhitespaceTokenizer\n",
    "from collections import Counter"
   ]
  },
  {
   "cell_type": "code",
   "execution_count": null,
   "metadata": {
    "colab": {
     "base_uri": "https://localhost:8080/"
    },
    "id": "Gy9XXK3QuJ0z",
    "outputId": "d92c0197-d395-400b-ba12-97d1093f231d"
   },
   "outputs": [
    {
     "name": "stdout",
     "output_type": "stream",
     "text": [
      "lenght of bag of words: 133495\n",
      "most common words: [('the', 759145), ('to', 493656), ('and', 457932), ('a', 361355), ('of', 237569), ('is', 220559), ('in', 216285), ('his', 204670), ('he', 184499), ('s', 167171)]\n"
     ]
    }
   ],
   "source": [
    "import string\n",
    "\n",
    "\n",
    "df_text = data['Plot'].copy()\n",
    "\n",
    "cols = ['statement_clean','statement_tokenized','origin/ethnicity']\n",
    "pp_df = pd.DataFrame([],columns=cols)\n",
    "text_without_numbers = []\n",
    "\n",
    "Tokenizer = WordPunctTokenizer()\n",
    "\n",
    "for text in df_text:\n",
    "  tokenized = Tokenizer.tokenize(str(text))\n",
    "  word_list = []\n",
    "  for word in tokenized:\n",
    "    if word not in ['1234567890'] and word not in punctuation:\n",
    "      word_list.append(unidecode.unidecode(word.lower()))\n",
    "\n",
    "  text_without_numbers.append(' '.join([word for word in word_list]))\n",
    "pp_df['statement_clean'] = text_without_numbers\n",
    "\n",
    "Tokenizer = WhitespaceTokenizer()\n",
    "\n",
    "pp_df['statement_tokenized'] = pp_df['statement_clean'].apply(lambda x: Tokenizer.tokenize(str(x)))\n",
    "tokenized_data = pp_df['statement_tokenized']\n",
    "word_count = Counter([item for sublist in pp_df['statement_tokenized'].values for item in sublist])\n",
    "\n",
    "bag_of_words = list(word_count.keys())\n",
    "\n",
    "print(f'lenght of bag of words: {len(bag_of_words)}')\n",
    "print(f'most common words: {word_count.most_common(10)}')"
   ]
  },
  {
   "cell_type": "code",
   "execution_count": null,
   "metadata": {
    "colab": {
     "base_uri": "https://localhost:8080/",
     "height": 226
    },
    "id": "-2smCGXrELNS",
    "outputId": "059b52f2-ecdf-4d91-92de-1382f8fd54c8"
   },
   "outputs": [
    {
     "data": {
      "application/vnd.google.colaboratory.intrinsic+json": {
       "repr_error": "Out of range float values are not JSON compliant: nan",
       "type": "dataframe",
       "variable_name": "pp_df"
      },
      "text/html": [
       "\n",
       "  <div id=\"df-bba72ee0-4e33-4705-9be3-6aa6adb4f6b7\" class=\"colab-df-container\">\n",
       "    <div>\n",
       "<style scoped>\n",
       "    .dataframe tbody tr th:only-of-type {\n",
       "        vertical-align: middle;\n",
       "    }\n",
       "\n",
       "    .dataframe tbody tr th {\n",
       "        vertical-align: top;\n",
       "    }\n",
       "\n",
       "    .dataframe thead th {\n",
       "        text-align: right;\n",
       "    }\n",
       "</style>\n",
       "<table border=\"1\" class=\"dataframe\">\n",
       "  <thead>\n",
       "    <tr style=\"text-align: right;\">\n",
       "      <th></th>\n",
       "      <th>statement_clean</th>\n",
       "      <th>statement_tokenized</th>\n",
       "      <th>origin/ethnicity</th>\n",
       "    </tr>\n",
       "  </thead>\n",
       "  <tbody>\n",
       "    <tr>\n",
       "      <th>0</th>\n",
       "      <td>a bartender is working at a saloon serving dri...</td>\n",
       "      <td>[a, bartender, is, working, at, a, saloon, ser...</td>\n",
       "      <td>NaN</td>\n",
       "    </tr>\n",
       "    <tr>\n",
       "      <th>1</th>\n",
       "      <td>the moon painted with a smiling face hangs ove...</td>\n",
       "      <td>[the, moon, painted, with, a, smiling, face, h...</td>\n",
       "      <td>NaN</td>\n",
       "    </tr>\n",
       "    <tr>\n",
       "      <th>2</th>\n",
       "      <td>the film just over a minute long is composed o...</td>\n",
       "      <td>[the, film, just, over, a, minute, long, is, c...</td>\n",
       "      <td>NaN</td>\n",
       "    </tr>\n",
       "    <tr>\n",
       "      <th>3</th>\n",
       "      <td>lasting just 61 seconds and consisting of two ...</td>\n",
       "      <td>[lasting, just, 61, seconds, and, consisting, ...</td>\n",
       "      <td>NaN</td>\n",
       "    </tr>\n",
       "    <tr>\n",
       "      <th>4</th>\n",
       "      <td>the earliest known adaptation of the classic f...</td>\n",
       "      <td>[the, earliest, known, adaptation, of, the, cl...</td>\n",
       "      <td>NaN</td>\n",
       "    </tr>\n",
       "  </tbody>\n",
       "</table>\n",
       "</div>\n",
       "    <div class=\"colab-df-buttons\">\n",
       "\n",
       "  <div class=\"colab-df-container\">\n",
       "    <button class=\"colab-df-convert\" onclick=\"convertToInteractive('df-bba72ee0-4e33-4705-9be3-6aa6adb4f6b7')\"\n",
       "            title=\"Convert this dataframe to an interactive table.\"\n",
       "            style=\"display:none;\">\n",
       "\n",
       "  <svg xmlns=\"http://www.w3.org/2000/svg\" height=\"24px\" viewBox=\"0 -960 960 960\">\n",
       "    <path d=\"M120-120v-720h720v720H120Zm60-500h600v-160H180v160Zm220 220h160v-160H400v160Zm0 220h160v-160H400v160ZM180-400h160v-160H180v160Zm440 0h160v-160H620v160ZM180-180h160v-160H180v160Zm440 0h160v-160H620v160Z\"/>\n",
       "  </svg>\n",
       "    </button>\n",
       "\n",
       "  <style>\n",
       "    .colab-df-container {\n",
       "      display:flex;\n",
       "      gap: 12px;\n",
       "    }\n",
       "\n",
       "    .colab-df-convert {\n",
       "      background-color: #E8F0FE;\n",
       "      border: none;\n",
       "      border-radius: 50%;\n",
       "      cursor: pointer;\n",
       "      display: none;\n",
       "      fill: #1967D2;\n",
       "      height: 32px;\n",
       "      padding: 0 0 0 0;\n",
       "      width: 32px;\n",
       "    }\n",
       "\n",
       "    .colab-df-convert:hover {\n",
       "      background-color: #E2EBFA;\n",
       "      box-shadow: 0px 1px 2px rgba(60, 64, 67, 0.3), 0px 1px 3px 1px rgba(60, 64, 67, 0.15);\n",
       "      fill: #174EA6;\n",
       "    }\n",
       "\n",
       "    .colab-df-buttons div {\n",
       "      margin-bottom: 4px;\n",
       "    }\n",
       "\n",
       "    [theme=dark] .colab-df-convert {\n",
       "      background-color: #3B4455;\n",
       "      fill: #D2E3FC;\n",
       "    }\n",
       "\n",
       "    [theme=dark] .colab-df-convert:hover {\n",
       "      background-color: #434B5C;\n",
       "      box-shadow: 0px 1px 3px 1px rgba(0, 0, 0, 0.15);\n",
       "      filter: drop-shadow(0px 1px 2px rgba(0, 0, 0, 0.3));\n",
       "      fill: #FFFFFF;\n",
       "    }\n",
       "  </style>\n",
       "\n",
       "    <script>\n",
       "      const buttonEl =\n",
       "        document.querySelector('#df-bba72ee0-4e33-4705-9be3-6aa6adb4f6b7 button.colab-df-convert');\n",
       "      buttonEl.style.display =\n",
       "        google.colab.kernel.accessAllowed ? 'block' : 'none';\n",
       "\n",
       "      async function convertToInteractive(key) {\n",
       "        const element = document.querySelector('#df-bba72ee0-4e33-4705-9be3-6aa6adb4f6b7');\n",
       "        const dataTable =\n",
       "          await google.colab.kernel.invokeFunction('convertToInteractive',\n",
       "                                                    [key], {});\n",
       "        if (!dataTable) return;\n",
       "\n",
       "        const docLinkHtml = 'Like what you see? Visit the ' +\n",
       "          '<a target=\"_blank\" href=https://colab.research.google.com/notebooks/data_table.ipynb>data table notebook</a>'\n",
       "          + ' to learn more about interactive tables.';\n",
       "        element.innerHTML = '';\n",
       "        dataTable['output_type'] = 'display_data';\n",
       "        await google.colab.output.renderOutput(dataTable, element);\n",
       "        const docLink = document.createElement('div');\n",
       "        docLink.innerHTML = docLinkHtml;\n",
       "        element.appendChild(docLink);\n",
       "      }\n",
       "    </script>\n",
       "  </div>\n",
       "\n",
       "\n",
       "<div id=\"df-771941da-2d6e-4753-95de-5f8843e7c6db\">\n",
       "  <button class=\"colab-df-quickchart\" onclick=\"quickchart('df-771941da-2d6e-4753-95de-5f8843e7c6db')\"\n",
       "            title=\"Suggest charts\"\n",
       "            style=\"display:none;\">\n",
       "\n",
       "<svg xmlns=\"http://www.w3.org/2000/svg\" height=\"24px\"viewBox=\"0 0 24 24\"\n",
       "     width=\"24px\">\n",
       "    <g>\n",
       "        <path d=\"M19 3H5c-1.1 0-2 .9-2 2v14c0 1.1.9 2 2 2h14c1.1 0 2-.9 2-2V5c0-1.1-.9-2-2-2zM9 17H7v-7h2v7zm4 0h-2V7h2v10zm4 0h-2v-4h2v4z\"/>\n",
       "    </g>\n",
       "</svg>\n",
       "  </button>\n",
       "\n",
       "<style>\n",
       "  .colab-df-quickchart {\n",
       "      --bg-color: #E8F0FE;\n",
       "      --fill-color: #1967D2;\n",
       "      --hover-bg-color: #E2EBFA;\n",
       "      --hover-fill-color: #174EA6;\n",
       "      --disabled-fill-color: #AAA;\n",
       "      --disabled-bg-color: #DDD;\n",
       "  }\n",
       "\n",
       "  [theme=dark] .colab-df-quickchart {\n",
       "      --bg-color: #3B4455;\n",
       "      --fill-color: #D2E3FC;\n",
       "      --hover-bg-color: #434B5C;\n",
       "      --hover-fill-color: #FFFFFF;\n",
       "      --disabled-bg-color: #3B4455;\n",
       "      --disabled-fill-color: #666;\n",
       "  }\n",
       "\n",
       "  .colab-df-quickchart {\n",
       "    background-color: var(--bg-color);\n",
       "    border: none;\n",
       "    border-radius: 50%;\n",
       "    cursor: pointer;\n",
       "    display: none;\n",
       "    fill: var(--fill-color);\n",
       "    height: 32px;\n",
       "    padding: 0;\n",
       "    width: 32px;\n",
       "  }\n",
       "\n",
       "  .colab-df-quickchart:hover {\n",
       "    background-color: var(--hover-bg-color);\n",
       "    box-shadow: 0 1px 2px rgba(60, 64, 67, 0.3), 0 1px 3px 1px rgba(60, 64, 67, 0.15);\n",
       "    fill: var(--button-hover-fill-color);\n",
       "  }\n",
       "\n",
       "  .colab-df-quickchart-complete:disabled,\n",
       "  .colab-df-quickchart-complete:disabled:hover {\n",
       "    background-color: var(--disabled-bg-color);\n",
       "    fill: var(--disabled-fill-color);\n",
       "    box-shadow: none;\n",
       "  }\n",
       "\n",
       "  .colab-df-spinner {\n",
       "    border: 2px solid var(--fill-color);\n",
       "    border-color: transparent;\n",
       "    border-bottom-color: var(--fill-color);\n",
       "    animation:\n",
       "      spin 1s steps(1) infinite;\n",
       "  }\n",
       "\n",
       "  @keyframes spin {\n",
       "    0% {\n",
       "      border-color: transparent;\n",
       "      border-bottom-color: var(--fill-color);\n",
       "      border-left-color: var(--fill-color);\n",
       "    }\n",
       "    20% {\n",
       "      border-color: transparent;\n",
       "      border-left-color: var(--fill-color);\n",
       "      border-top-color: var(--fill-color);\n",
       "    }\n",
       "    30% {\n",
       "      border-color: transparent;\n",
       "      border-left-color: var(--fill-color);\n",
       "      border-top-color: var(--fill-color);\n",
       "      border-right-color: var(--fill-color);\n",
       "    }\n",
       "    40% {\n",
       "      border-color: transparent;\n",
       "      border-right-color: var(--fill-color);\n",
       "      border-top-color: var(--fill-color);\n",
       "    }\n",
       "    60% {\n",
       "      border-color: transparent;\n",
       "      border-right-color: var(--fill-color);\n",
       "    }\n",
       "    80% {\n",
       "      border-color: transparent;\n",
       "      border-right-color: var(--fill-color);\n",
       "      border-bottom-color: var(--fill-color);\n",
       "    }\n",
       "    90% {\n",
       "      border-color: transparent;\n",
       "      border-bottom-color: var(--fill-color);\n",
       "    }\n",
       "  }\n",
       "</style>\n",
       "\n",
       "  <script>\n",
       "    async function quickchart(key) {\n",
       "      const quickchartButtonEl =\n",
       "        document.querySelector('#' + key + ' button');\n",
       "      quickchartButtonEl.disabled = true;  // To prevent multiple clicks.\n",
       "      quickchartButtonEl.classList.add('colab-df-spinner');\n",
       "      try {\n",
       "        const charts = await google.colab.kernel.invokeFunction(\n",
       "            'suggestCharts', [key], {});\n",
       "      } catch (error) {\n",
       "        console.error('Error during call to suggestCharts:', error);\n",
       "      }\n",
       "      quickchartButtonEl.classList.remove('colab-df-spinner');\n",
       "      quickchartButtonEl.classList.add('colab-df-quickchart-complete');\n",
       "    }\n",
       "    (() => {\n",
       "      let quickchartButtonEl =\n",
       "        document.querySelector('#df-771941da-2d6e-4753-95de-5f8843e7c6db button');\n",
       "      quickchartButtonEl.style.display =\n",
       "        google.colab.kernel.accessAllowed ? 'block' : 'none';\n",
       "    })();\n",
       "  </script>\n",
       "</div>\n",
       "\n",
       "    </div>\n",
       "  </div>\n"
      ],
      "text/plain": [
       "                                     statement_clean  \\\n",
       "0  a bartender is working at a saloon serving dri...   \n",
       "1  the moon painted with a smiling face hangs ove...   \n",
       "2  the film just over a minute long is composed o...   \n",
       "3  lasting just 61 seconds and consisting of two ...   \n",
       "4  the earliest known adaptation of the classic f...   \n",
       "\n",
       "                                 statement_tokenized origin/ethnicity  \n",
       "0  [a, bartender, is, working, at, a, saloon, ser...              NaN  \n",
       "1  [the, moon, painted, with, a, smiling, face, h...              NaN  \n",
       "2  [the, film, just, over, a, minute, long, is, c...              NaN  \n",
       "3  [lasting, just, 61, seconds, and, consisting, ...              NaN  \n",
       "4  [the, earliest, known, adaptation, of, the, cl...              NaN  "
      ]
     },
     "execution_count": 7,
     "metadata": {},
     "output_type": "execute_result"
    }
   ],
   "source": [
    "pp_df.head()"
   ]
  },
  {
   "cell_type": "markdown",
   "metadata": {
    "id": "mJLGis0JuKCm"
   },
   "source": [
    "### Questão 6"
   ]
  },
  {
   "cell_type": "markdown",
   "metadata": {
    "id": "VgAin46OxQyU"
   },
   "source": [
    "Aplique os seguintes passos de pré-processamento aos textos processados na questão anterior:\n",
    "\n",
    "• Remova stopwords;\n",
    "\n",
    "• Realize rotulação de POS;\n",
    "\n",
    "• Realize stemização;\n",
    "\n",
    "$a)$ Exiba os resultados em alguns textos.\n",
    "\n",
    "$b)$ Verifique quais são as 10 palavras mais frequentes e compare com as 10 palavras mais frequentes da questão anterior.\n",
    "\n",
    "$c)$ Repita a letra $b)$ usando os tokens stemizados.\n",
    "\n",
    "$d)$ Verifique quais são as classes gramaticais mais frequentes."
   ]
  },
  {
   "cell_type": "markdown",
   "metadata": {
    "id": "HcgDpnfb_wwa"
   },
   "source": [
    "### Continuando o pré-processamento"
   ]
  },
  {
   "cell_type": "code",
   "execution_count": null,
   "metadata": {
    "colab": {
     "base_uri": "https://localhost:8080/"
    },
    "id": "cbv6MumkuL-3",
    "outputId": "9a1efd3a-1c56-4b6f-93f7-600c7778fb99"
   },
   "outputs": [
    {
     "name": "stderr",
     "output_type": "stream",
     "text": [
      "[nltk_data] Downloading package stopwords to /root/nltk_data...\n",
      "[nltk_data]   Package stopwords is already up-to-date!\n",
      "[nltk_data] Downloading package rslp to /root/nltk_data...\n",
      "[nltk_data]   Package rslp is already up-to-date!\n"
     ]
    }
   ],
   "source": [
    "import nltk\n",
    "from nltk.corpus import stopwords\n",
    "from nltk.tokenize import WhitespaceTokenizer, WordPunctTokenizer\n",
    "nltk.download('stopwords')\n",
    "nltk.download('rslp')\n",
    "stoplist = stopwords.words('english')"
   ]
  },
  {
   "cell_type": "markdown",
   "metadata": {
    "id": "DGg3vfdKao7F"
   },
   "source": [
    "#### a) Exiba o resultado em alguns textos"
   ]
  },
  {
   "cell_type": "code",
   "execution_count": null,
   "metadata": {
    "colab": {
     "base_uri": "https://localhost:8080/",
     "height": 90
    },
    "id": "_X3XfMOCY6A1",
    "outputId": "e0707f3e-3a58-467f-dc42-1c5d33550057"
   },
   "outputs": [
    {
     "data": {
      "application/vnd.google.colaboratory.intrinsic+json": {
       "type": "string"
      },
      "text/plain": [
       "'a bartender is working at a saloon serving drinks to customers after he fills a stereotypically irish man s bucket with beer carrie nation and her followers burst inside they assault the irish man pulling his hat over his eyes and then dumping the beer over his head the group then begin wrecking the bar smashing the fixtures mirrors and breaking the cash register the bartender then sprays seltzer water in nation s face before a group of policemen appear and order everybody to leave .[ 1'"
      ]
     },
     "execution_count": 23,
     "metadata": {},
     "output_type": "execute_result"
    }
   ],
   "source": [
    "pp_df['statement_clean'][0]"
   ]
  },
  {
   "cell_type": "code",
   "execution_count": null,
   "metadata": {
    "colab": {
     "base_uri": "https://localhost:8080/",
     "height": 90
    },
    "id": "lJ8xid1bawaO",
    "outputId": "cf31db2c-6bab-4aff-d572-5c5735dc1e96"
   },
   "outputs": [
    {
     "data": {
      "application/vnd.google.colaboratory.intrinsic+json": {
       "type": "string"
      },
      "text/plain": [
       "'the moon painted with a smiling face hangs over a park at night a young couple walking past a fence learn on a railing and look up the moon smiles they embrace and the moon s smile gets bigger they then sit down on a bench by a tree the moon s view is blocked causing him to frown in the last scene the man fans the woman with his hat because the moon has left the sky and is perched over her shoulder to see everything better'"
      ]
     },
     "execution_count": 24,
     "metadata": {},
     "output_type": "execute_result"
    }
   ],
   "source": [
    "pp_df['statement_clean'][1]"
   ]
  },
  {
   "cell_type": "markdown",
   "metadata": {
    "id": "WFh4lao_FOZH"
   },
   "source": [
    "### b)"
   ]
  },
  {
   "cell_type": "code",
   "execution_count": null,
   "metadata": {
    "colab": {
     "base_uri": "https://localhost:8080/"
    },
    "id": "jzC3bnGMurw-",
    "outputId": "1895da6a-8e6f-4814-8acd-3d778b823ad7"
   },
   "outputs": [
    {
     "name": "stdout",
     "output_type": "stream",
     "text": [
      "lenght of bag of words: 133495\n",
      "most common words: [('the', 392691), ('a', 178467), ('his', 108815), ('he', 75456), ('her', 63871), ('is', 62183), ('to', 59662), ('she', 40108), ('),', 38014), ('and', 30079)]\n"
     ]
    }
   ],
   "source": [
    "for tokens_list in tokenized_data:\n",
    "  for token in tokens_list:\n",
    "    if token in stoplist:\n",
    "      tokens_list.remove(token)\n",
    "\n",
    "word_count_sw = Counter([item for sublist in pp_df['statement_tokenized'].values for item in sublist])\n",
    "\n",
    "bag_of_words_sw = list(word_count.keys())\n",
    "\n",
    "print(f'lenght of bag of words: {len(bag_of_words_sw)}')\n",
    "print(f'most common words: {word_count_sw.most_common(10)}')"
   ]
  },
  {
   "cell_type": "code",
   "execution_count": null,
   "metadata": {
    "colab": {
     "base_uri": "https://localhost:8080/",
     "height": 261
    },
    "id": "Jbde1p99EwpU",
    "outputId": "3aaa7f42-f589-47eb-fb7a-f13c24b67bc9"
   },
   "outputs": [
    {
     "data": {
      "text/html": [
       "<div>\n",
       "<style scoped>\n",
       "    .dataframe tbody tr th:only-of-type {\n",
       "        vertical-align: middle;\n",
       "    }\n",
       "\n",
       "    .dataframe tbody tr th {\n",
       "        vertical-align: top;\n",
       "    }\n",
       "\n",
       "    .dataframe thead th {\n",
       "        text-align: right;\n",
       "    }\n",
       "</style>\n",
       "<table border=\"1\" class=\"dataframe\">\n",
       "  <thead>\n",
       "    <tr style=\"text-align: right;\">\n",
       "      <th></th>\n",
       "      <th>statement_tokenized</th>\n",
       "    </tr>\n",
       "  </thead>\n",
       "  <tbody>\n",
       "    <tr>\n",
       "      <th>0</th>\n",
       "      <td>[bartender, working, saloon, serving, drinks, ...</td>\n",
       "    </tr>\n",
       "    <tr>\n",
       "      <th>1</th>\n",
       "      <td>[moon, painted, smiling, face, hangs, park, ni...</td>\n",
       "    </tr>\n",
       "    <tr>\n",
       "      <th>2</th>\n",
       "      <td>[film, over, minute, long, composed, two, shot...</td>\n",
       "    </tr>\n",
       "    <tr>\n",
       "      <th>3</th>\n",
       "      <td>[lasting, 61, seconds, consisting, two, shots,...</td>\n",
       "    </tr>\n",
       "    <tr>\n",
       "      <th>4</th>\n",
       "      <td>[earliest, known, adaptation, classic, fairyta...</td>\n",
       "    </tr>\n",
       "  </tbody>\n",
       "</table>\n",
       "</div><br><label><b>dtype:</b> object</label>"
      ],
      "text/plain": [
       "0    [bartender, working, saloon, serving, drinks, ...\n",
       "1    [moon, painted, smiling, face, hangs, park, ni...\n",
       "2    [film, over, minute, long, composed, two, shot...\n",
       "3    [lasting, 61, seconds, consisting, two, shots,...\n",
       "4    [earliest, known, adaptation, classic, fairyta...\n",
       "Name: statement_tokenized, dtype: object"
      ]
     },
     "execution_count": 11,
     "metadata": {},
     "output_type": "execute_result"
    }
   ],
   "source": [
    "pp_df['statement_tokenized'] = tokenized_data\n",
    "pp_df['statement_tokenized'].head()"
   ]
  },
  {
   "cell_type": "markdown",
   "metadata": {
    "id": "NoxAklwGFR2w"
   },
   "source": [
    "#### c) Repita a letra $b)$ usando os tokens stemizados."
   ]
  },
  {
   "cell_type": "code",
   "execution_count": null,
   "metadata": {
    "colab": {
     "base_uri": "https://localhost:8080/"
    },
    "id": "1g-uDiloAWAL",
    "outputId": "b848ee18-5526-434d-c69d-f6a7bfb6f28c"
   },
   "outputs": [
    {
     "name": "stdout",
     "output_type": "stream",
     "text": [
      "lenght of bag of words: 133495\n",
      "most common words: [('the', 420112), ('a', 178467), ('hi', 108926), ('he', 78479), ('her', 65402), ('is', 62204), ('to', 59662), ('she', 40373), ('),', 38014), ('find', 30584)]\n"
     ]
    }
   ],
   "source": [
    "stemmer = nltk.stem.RSLPStemmer()\n",
    "\n",
    "for statement in tokenized_data:\n",
    "  for i in range(len(statement)):\n",
    "    statement[i] = stemmer.stem(statement[i])\n",
    "\n",
    "\n",
    "word_count_stem = Counter([item for sublist in pp_df['statement_tokenized'].values for item in sublist])\n",
    "\n",
    "bag_of_words_stem = list(word_count.keys())\n",
    "\n",
    "print(f'lenght of bag of words: {len(bag_of_words_stem)}')\n",
    "print(f'most common words: {word_count_stem.most_common(10)}')"
   ]
  },
  {
   "cell_type": "code",
   "execution_count": null,
   "metadata": {
    "colab": {
     "base_uri": "https://localhost:8080/",
     "height": 261
    },
    "id": "iZk4Y5n3vlav",
    "outputId": "49fa191e-281c-451b-d032-281a9a6c734a"
   },
   "outputs": [
    {
     "data": {
      "text/html": [
       "<div>\n",
       "<style scoped>\n",
       "    .dataframe tbody tr th:only-of-type {\n",
       "        vertical-align: middle;\n",
       "    }\n",
       "\n",
       "    .dataframe tbody tr th {\n",
       "        vertical-align: top;\n",
       "    }\n",
       "\n",
       "    .dataframe thead th {\n",
       "        text-align: right;\n",
       "    }\n",
       "</style>\n",
       "<table border=\"1\" class=\"dataframe\">\n",
       "  <thead>\n",
       "    <tr style=\"text-align: right;\">\n",
       "      <th></th>\n",
       "      <th>statement_tokenized</th>\n",
       "    </tr>\n",
       "  </thead>\n",
       "  <tbody>\n",
       "    <tr>\n",
       "      <th>0</th>\n",
       "      <td>[bartend, working, saloon, serving, drink, cus...</td>\n",
       "    </tr>\n",
       "    <tr>\n",
       "      <th>1</th>\n",
       "      <td>[moon, painted, smiling, fac, hang, park, nigh...</td>\n",
       "    </tr>\n",
       "    <tr>\n",
       "      <th>2</th>\n",
       "      <td>[film, ov, minut, long, composed, two, shot, f...</td>\n",
       "    </tr>\n",
       "    <tr>\n",
       "      <th>3</th>\n",
       "      <td>[lasting, 61, second, consisting, two, shot, f...</td>\n",
       "    </tr>\n",
       "    <tr>\n",
       "      <th>4</th>\n",
       "      <td>[earliest, known, adaptation, classic, fairyta...</td>\n",
       "    </tr>\n",
       "  </tbody>\n",
       "</table>\n",
       "</div><br><label><b>dtype:</b> object</label>"
      ],
      "text/plain": [
       "0    [bartend, working, saloon, serving, drink, cus...\n",
       "1    [moon, painted, smiling, fac, hang, park, nigh...\n",
       "2    [film, ov, minut, long, composed, two, shot, f...\n",
       "3    [lasting, 61, second, consisting, two, shot, f...\n",
       "4    [earliest, known, adaptation, classic, fairyta...\n",
       "Name: statement_tokenized, dtype: object"
      ]
     },
     "execution_count": 13,
     "metadata": {},
     "output_type": "execute_result"
    }
   ],
   "source": [
    "pp_df['statement_tokenized'] = tokenized_data\n",
    "pp_df['statement_tokenized'].head()"
   ]
  },
  {
   "cell_type": "markdown",
   "metadata": {
    "id": "aY2ffI1ZOJGo"
   },
   "source": [
    "#### d) Verifique quais são as classes gramaticais mais frequentes."
   ]
  },
  {
   "cell_type": "code",
   "execution_count": null,
   "metadata": {
    "id": "CkxcetAGooLF"
   },
   "outputs": [],
   "source": [
    "import spacy\n",
    "\n",
    "nlp = spacy.load(\"en_core_web_sm\")\n",
    "\n",
    "def perform_pos_tagging(texts):\n",
    "    tagged_texts = []\n",
    "    for doc in nlp.pipe(texts, batch_size=50, disable=[\"ner\", \"lemmatizer\"]):\n",
    "        tagged_texts.append([(token.text, token.pos_) for token in doc])\n",
    "    return tagged_texts\n"
   ]
  },
  {
   "cell_type": "code",
   "execution_count": null,
   "metadata": {
    "id": "ng0LQWCxor1F"
   },
   "outputs": [],
   "source": [
    "from collections import Counter\n",
    "\n",
    "def count_pos_frequencies(tagged_texts):\n",
    "    pos_counts = Counter()\n",
    "    for tags in tagged_texts:\n",
    "        pos_counts.update(tag[1] for tag in tags)\n",
    "    return pos_counts\n"
   ]
  },
  {
   "cell_type": "code",
   "execution_count": null,
   "metadata": {
    "colab": {
     "base_uri": "https://localhost:8080/"
    },
    "id": "b7K0ipJ5mYAq",
    "outputId": "0358dff0-1bc6-4368-cd48-76ea3e1ec402"
   },
   "outputs": [
    {
     "name": "stdout",
     "output_type": "stream",
     "text": [
      "[('NOUN', 2402049), ('VERB', 2005888), ('PUNCT', 1842601), ('PROPN', 1749635), ('ADP', 1505545), ('DET', 1251796), ('PRON', 1180505), ('ADJ', 651667), ('CCONJ', 543738), ('AUX', 536203)]\n"
     ]
    }
   ],
   "source": [
    "plot_texts = data['Plot'].dropna().tolist()\n",
    "pos_tags_spacy = perform_pos_tagging(plot_texts)\n",
    "pos_frequencies = count_pos_frequencies(pos_tags_spacy)\n",
    "print(pos_frequencies.most_common(10))\n"
   ]
  }
 ],
 "metadata": {
  "colab": {
   "collapsed_sections": [
    "1qU2h_BQt39X",
    "-3EkD-O4uEJu",
    "GN6EMAJfuHN4"
   ],
   "provenance": []
  },
  "kernelspec": {
   "display_name": "Python 3 (ipykernel)",
   "language": "python",
   "name": "python3"
  },
  "language_info": {
   "codemirror_mode": {
    "name": "ipython",
    "version": 3
   },
   "file_extension": ".py",
   "mimetype": "text/x-python",
   "name": "python",
   "nbconvert_exporter": "python",
   "pygments_lexer": "ipython3",
   "version": "3.11.5"
  }
 },
 "nbformat": 4,
 "nbformat_minor": 1
}
